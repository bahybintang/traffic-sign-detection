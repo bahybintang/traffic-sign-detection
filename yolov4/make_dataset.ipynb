{
 "metadata": {
  "language_info": {
   "codemirror_mode": {
    "name": "ipython",
    "version": 3
   },
   "file_extension": ".py",
   "mimetype": "text/x-python",
   "name": "python",
   "nbconvert_exporter": "python",
   "pygments_lexer": "ipython3",
   "version": "3.8.5"
  },
  "orig_nbformat": 2,
  "kernelspec": {
   "name": "python38564bita6ae429791ee4d7392c3cce1e85f0ef4",
   "display_name": "Python 3.8.5 64-bit"
  },
  "metadata": {
   "interpreter": {
    "hash": "31f2aee4e71d21fbe5cf8b01ff0e069b9275f58929596ceb00d14d90e3e16cd6"
   }
  }
 },
 "nbformat": 4,
 "nbformat_minor": 2,
 "cells": [
  {
   "cell_type": "code",
   "execution_count": 17,
   "metadata": {},
   "outputs": [],
   "source": [
    "import numpy as np\n",
    "import matplotlib.pyplot as plt\n",
    "import os\n",
    "import pandas as pd\n",
    "import cv2"
   ]
  },
  {
   "cell_type": "code",
   "execution_count": 18,
   "metadata": {},
   "outputs": [],
   "source": [
    "trainPath = '../chinese_dataset/tsrd-train'\n",
    "testPath = '../chinese_dataset/TSRD-Test'\n",
    "labelFilePath = '../chinese_dataset/labels.csv'\n",
    "testAnnotationPath = '../chinese_dataset/TSRD-Test Annotation/TsignRecgTest1994Annotation.txt'\n",
    "trainAnnotationPath = '../chinese_dataset/TSRD-Train Annotation/TsignRecgTrain4170Annotation.txt'\n",
    "outPath = 'yolo_chinese_dataset'"
   ]
  },
  {
   "cell_type": "code",
   "execution_count": 19,
   "metadata": {},
   "outputs": [],
   "source": [
    "# Read annotations\n",
    "trainAnnotation = pd.read_csv(trainAnnotationPath, delimiter=\";\", header=None)\n",
    "testAnnotation = pd.read_csv(testAnnotationPath, delimiter=\";\", header=None)\n",
    "labelFile = pd.read_csv(labelFilePath)"
   ]
  },
  {
   "cell_type": "code",
   "execution_count": 20,
   "metadata": {},
   "outputs": [
    {
     "output_type": "stream",
     "name": "stdout",
     "text": [
      "\n\nStart converting train...\n"
     ]
    }
   ],
   "source": [
    "trainTxt = open(os.path.join(outPath, 'train.txt'), 'w')\n",
    "\n",
    "print(\"\\n\\nStart converting train...\")\n",
    "for j, row in trainAnnotation.iterrows():\n",
    "    x = os.path.splitext(row[0])[0]\n",
    "    trainTxt.write('data/obj/' + x + '.jpg\\n')\n",
    "    img = cv2.imread(os.path.join(trainPath, str(row[0])))\n",
    "    classIndex = row[7]\n",
    "    yLeft, yRight = row[4], row[6]\n",
    "    xLeft, xRight = row[3], row[5]\n",
    "    w, h = row[1], row[2]\n",
    "    img = cv2.resize(img, (416, 416))\n",
    "    cv2.imwrite(os.path.join(outPath, 'obj', x + '.jpg'), img)\n",
    "    f = open(os.path.join(outPath, 'obj', x + '.txt'), 'w')\n",
    "    f.write(\"{} {} {} {} {}\".format(int(classIndex), xLeft / w, yLeft / h, (xRight - yLeft) / w, (yRight - yLeft) / h))\n",
    "    f.close()\n",
    "\n",
    "trainTxt.close()"
   ]
  },
  {
   "cell_type": "code",
   "execution_count": 21,
   "metadata": {},
   "outputs": [
    {
     "output_type": "stream",
     "name": "stdout",
     "text": [
      "\n\nStart converting valid...\n"
     ]
    }
   ],
   "source": [
    "testTxt = open(os.path.join(outPath, 'valid.txt'), 'w')\n",
    "\n",
    "print(\"\\n\\nStart converting valid...\")\n",
    "for j, row in testAnnotation.iterrows():\n",
    "    x = os.path.splitext(row[0])[0]\n",
    "    testTxt.write('data/obj/' + x + '.jpg\\n')\n",
    "    img = cv2.imread(os.path.join(testPath, str(row[0])))\n",
    "    classIndex = row[7]\n",
    "    yLeft, yRight = row[4], row[6]\n",
    "    xLeft, xRight = row[3], row[5]\n",
    "    w, h = row[1], row[2]\n",
    "    img = cv2.resize(img, (416, 416))\n",
    "    cv2.imwrite(os.path.join(outPath, 'obj', x + '.jpg'), img)\n",
    "    f = open(os.path.join(outPath, 'obj', x + '.txt'), 'w')\n",
    "    f.write(\"{} {} {} {} {}\".format(int(classIndex), xLeft / w, yLeft / h, (xRight - xLeft) / w, (yRight - yLeft) / h))\n",
    "    f.close()\n",
    "\n",
    "testTxt.close()"
   ]
  },
  {
   "cell_type": "code",
   "execution_count": 22,
   "metadata": {},
   "outputs": [
    {
     "output_type": "stream",
     "name": "stdout",
     "text": [
      "\n\nStart making labels...\n"
     ]
    }
   ],
   "source": [
    "print(\"\\n\\nStart making labels...\")\n",
    "f = open(os.path.join(outPath, 'obj.names'), 'w')\n",
    "for _, row in labelFile.iterrows():\n",
    "    f.write(row['Name'] + '\\n')\n",
    "f.close()"
   ]
  }
 ]
}